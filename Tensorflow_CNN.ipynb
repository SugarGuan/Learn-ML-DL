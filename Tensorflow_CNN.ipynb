{
  "nbformat": 4,
  "nbformat_minor": 0,
  "metadata": {
    "colab": {
      "name": "Tensorflow_CNN.ipynb",
      "version": "0.3.2",
      "provenance": [],
      "include_colab_link": true
    },
    "kernelspec": {
      "name": "python3",
      "display_name": "Python 3"
    }
  },
  "cells": [
    {
      "cell_type": "markdown",
      "metadata": {
        "id": "view-in-github",
        "colab_type": "text"
      },
      "source": [
        "<a href=\"https://colab.research.google.com/github/SugarGuan/Learn-ML-DL/blob/master/Tensorflow_CNN.ipynb\" target=\"_parent\"><img src=\"https://colab.research.google.com/assets/colab-badge.svg\" alt=\"Open In Colab\"/></a>"
      ]
    },
    {
      "cell_type": "code",
      "metadata": {
        "id": "4wll_FxqPy0o",
        "colab_type": "code",
        "colab": {}
      },
      "source": [
        "from tensorflow.examples.tutorials.mnist import input_data\n",
        "import tensorflow as tf\n",
        "mnist = input_data.read_data_sets(\"MNIST_data\", one_hot=True)"
      ],
      "execution_count": 0,
      "outputs": []
    },
    {
      "cell_type": "code",
      "metadata": {
        "id": "dQPnP5_gP6yW",
        "colab_type": "code",
        "colab": {}
      },
      "source": [
        "# Create a tensorflow sesion\n",
        "# Have to close the session when you want to re-run any part of this ipynb file!\n",
        "sess = tf.InteractiveSession()"
      ],
      "execution_count": 0,
      "outputs": []
    },
    {
      "cell_type": "code",
      "metadata": {
        "id": "yUxp_lkKQQC8",
        "colab_type": "code",
        "colab": {}
      },
      "source": [
        "def weight_variable(shape):\n",
        "  initial = tf.truncated_normal(shape, stddev=0.1)\n",
        "  return tf.Variable(initial)\n",
        "\n",
        "def bias_variable(shape):\n",
        "  initial = tf.constant(0.1, shape=shape)\n",
        "  return initial"
      ],
      "execution_count": 0,
      "outputs": []
    },
    {
      "cell_type": "code",
      "metadata": {
        "id": "bt1dludBQqZQ",
        "colab_type": "code",
        "colab": {}
      },
      "source": [
        "# 卷积层\n",
        "def conv2d(x, W):\n",
        "  return tf.nn.conv2d(x, W, strides=[1,1,1,1], padding='SAME')\n",
        "\n",
        "# 池化层（使用max 最大特征提取方式进行池化）\n",
        "def max_pool_2x2(x):\n",
        "  return tf.nn.max_pool(x, ksize=[1,2,2,1], strides=[1,2,2,1],padding='SAME')\n"
      ],
      "execution_count": 0,
      "outputs": []
    },
    {
      "cell_type": "code",
      "metadata": {
        "id": "z6-njJttRQ9W",
        "colab_type": "code",
        "colab": {}
      },
      "source": [
        "# 定义输入\n",
        "x = tf.placeholder(tf.float32, [None, 784])\n",
        "y_ = tf.placeholder(tf.float32, [None, 10])\n",
        "\n",
        "x_image = tf.reshape(x, [-1,28,28,1])"
      ],
      "execution_count": 0,
      "outputs": []
    },
    {
      "cell_type": "code",
      "metadata": {
        "id": "Swzk5_DnRj2l",
        "colab_type": "code",
        "colab": {}
      },
      "source": [
        "# 定义卷积层1\n",
        "W_conv1 = weight_variable([5,5,1,32])\n",
        "b_conv1 = bias_variable([32])\n",
        "\n",
        "h_conv1 = tf.nn.relu(conv2d(x_image, W_conv1)+ b_conv1)\n",
        "h_pool1 = max_pool_2x2(h_conv1)"
      ],
      "execution_count": 0,
      "outputs": []
    },
    {
      "cell_type": "code",
      "metadata": {
        "id": "NNHgxg-iR8NV",
        "colab_type": "code",
        "colab": {}
      },
      "source": [
        "# 定义卷积层2\n",
        "W_conv2 = weight_variable([5,5,32,64])\n",
        "b_conv2 = bias_variable([64])\n",
        "\n",
        "h_conv2 = tf.nn.relu(conv2d(h_pool1, W_conv2) + b_conv2)\n",
        "h_pool2 = max_pool_2x2(h_conv2)"
      ],
      "execution_count": 0,
      "outputs": []
    },
    {
      "cell_type": "code",
      "metadata": {
        "id": "QCchUTASSVUd",
        "colab_type": "code",
        "colab": {}
      },
      "source": [
        "# 全连接层\n",
        "W_fc1 = weight_variable([7 * 7 * 64 , 1024])\n",
        "b_fc1 = bias_variable([1024])\n",
        "h_pool2_flat = tf.reshape(h_pool2, [-1, 7*7*64])\n",
        "h_fc1 = tf.nn.relu(tf.matmul(h_pool2_flat, W_fc1) + b_fc1)"
      ],
      "execution_count": 0,
      "outputs": []
    },
    {
      "cell_type": "code",
      "metadata": {
        "id": "CSfoJoPiTA97",
        "colab_type": "code",
        "outputId": "8f2c42b9-4c4a-4e10-d12d-c01d630af905",
        "colab": {
          "base_uri": "https://localhost:8080/",
          "height": 71
        }
      },
      "source": [
        "# Dropout层 通过placeholder传入一个keep_prob比率进行控制\n",
        "# 训练中随机丢弃一些数据 来减轻过拟合（如果保留全部数据可以获得最好性能）\n",
        "keep_prob = tf.placeholder(tf.float32)\n",
        "h_fc1_drop = tf.nn.dropout(h_fc1, keep_prob)"
      ],
      "execution_count": 0,
      "outputs": [
        {
          "output_type": "stream",
          "text": [
            "W0629 12:55:25.959743 140359469037440 deprecation.py:506] From <ipython-input-11-35c3bf3a9559>:2: calling dropout (from tensorflow.python.ops.nn_ops) with keep_prob is deprecated and will be removed in a future version.\n",
            "Instructions for updating:\n",
            "Please use `rate` instead of `keep_prob`. Rate should be set to `rate = 1 - keep_prob`.\n"
          ],
          "name": "stderr"
        }
      ]
    },
    {
      "cell_type": "code",
      "metadata": {
        "id": "9aie5lNsTcl5",
        "colab_type": "code",
        "colab": {}
      },
      "source": [
        "# Dropout层 通过placeholder传入一个keep_prob比率进行控制\n",
        "# 训练中随机丢弃一些数据 来减轻过拟合（如果保留全部数据可以获得最好性能）\n",
        "keep_prob = tf.placeholder(tf.float32)\n",
        "rate = 1- keep_prob\n",
        "h_fc1_drop = tf.nn.dropout(h_fc1, rate)"
      ],
      "execution_count": 0,
      "outputs": []
    },
    {
      "cell_type": "code",
      "metadata": {
        "id": "4AXQDYwQTr1m",
        "colab_type": "code",
        "colab": {}
      },
      "source": [
        "# Softmax 层，用于得到最后的概率输出\n",
        "W_fc2 = weight_variable([1024 , 10])\n",
        "b_fc2 = weight_variable([10])\n",
        "y_conv = tf.nn.softmax(tf.matmul(h_fc1_drop, W_fc2) + b_fc2)"
      ],
      "execution_count": 0,
      "outputs": []
    },
    {
      "cell_type": "code",
      "metadata": {
        "id": "nGJGzvlgUCv0",
        "colab_type": "code",
        "colab": {}
      },
      "source": [
        "# 定义损失函数 使用交叉熵（cross entropy）\n",
        "cross_entropy = tf.reduce_mean(-tf.reduce_sum(y_ * tf.log(y_conv),\n",
        "                              reduction_indices=[1]))\n",
        "train_step = tf.train.AdamOptimizer(1e-4).minimize(cross_entropy)"
      ],
      "execution_count": 0,
      "outputs": []
    },
    {
      "cell_type": "code",
      "metadata": {
        "id": "TCEn8pnNUfCg",
        "colab_type": "code",
        "colab": {}
      },
      "source": [
        "# 评测准确率"
      ],
      "execution_count": 0,
      "outputs": []
    },
    {
      "cell_type": "code",
      "metadata": {
        "id": "DXGAZ54JUg0x",
        "colab_type": "code",
        "colab": {}
      },
      "source": [
        "correct_prediction = tf.equal(tf.argmax(y_conv, 1), tf.argmax(y_ ,1))\n",
        "accuracy = tf.reduce_mean(tf.cast(correct_prediction, tf.float32))"
      ],
      "execution_count": 0,
      "outputs": []
    },
    {
      "cell_type": "code",
      "metadata": {
        "id": "n1N8i2v6U3_d",
        "colab_type": "code",
        "outputId": "30917926-5476-4c93-a5f5-819ce4de7670",
        "colab": {
          "base_uri": "https://localhost:8080/",
          "height": 53
        }
      },
      "source": [
        "# 初始化全局变量（variables）\n",
        "tf.global_variables_initializer().run()\n",
        "for i in range(20000):\n",
        "  batch = mnist.train.next_batch(50)\n",
        "  if i % 100 == 0:\n",
        "    train_accuracy = accuracy.eval(feed_dict={x:batch[0], y_:batch[1], \n",
        "                                             keep_prob: 1.0})\n",
        "    print(\"Step %d , training accuracy %g\"%(i, train_accuracy))\n",
        "  train_step.run(feed_dict={x: batch[0], y_:batch[1], keep_prob: 0.5})"
      ],
      "execution_count": 0,
      "outputs": [
        {
          "output_type": "stream",
          "text": [
            "Step 3600 , training accuracy 0.16\n",
            "Step 3700 , training accuracy 0.18\n"
          ],
          "name": "stdout"
        }
      ]
    },
    {
      "cell_type": "code",
      "metadata": {
        "id": "mlU3toY4Wc6G",
        "colab_type": "code",
        "colab": {}
      },
      "source": [
        "print(\"test accuracy %g\"%accuracy.eval(feed_dict={\n",
        "    x: mnist.test.images, y_:mnist.test.labels, keep_prob: 1.0}))"
      ],
      "execution_count": 0,
      "outputs": []
    }
  ]
}